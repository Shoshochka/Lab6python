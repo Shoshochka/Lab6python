{
 "cells": [
  {
   "cell_type": "code",
   "execution_count": 2,
   "id": "70dff1a6-dbf9-4d00-bd83-e374a7fa1f2c",
   "metadata": {},
   "outputs": [
    {
     "data": {
      "text/plain": [
       "9"
      ]
     },
     "execution_count": 2,
     "metadata": {},
     "output_type": "execute_result"
    }
   ],
   "source": [
    "N = ord(\"D\") %10 + 1\n",
    "N"
   ]
  },
  {
   "cell_type": "code",
   "execution_count": 7,
   "id": "d499847a-2e65-42db-9e66-08689945e02a",
   "metadata": {},
   "outputs": [
    {
     "data": {
      "text/markdown": [
       "# Чеська Республіка"
      ],
      "text/plain": [
       "<IPython.core.display.Markdown object>"
      ]
     },
     "metadata": {},
     "output_type": "display_data"
    },
    {
     "data": {
      "text/markdown": [
       "## Загальні відомості"
      ],
      "text/plain": [
       "<IPython.core.display.Markdown object>"
      ]
     },
     "metadata": {},
     "output_type": "display_data"
    },
    {
     "data": {
      "text/markdown": [
       "**Площа**: *78,866 км²*"
      ],
      "text/plain": [
       "<IPython.core.display.Markdown object>"
      ]
     },
     "metadata": {},
     "output_type": "display_data"
    },
    {
     "data": {
      "text/markdown": [
       "**Населення**: *10,693,939 людей*"
      ],
      "text/plain": [
       "<IPython.core.display.Markdown object>"
      ]
     },
     "metadata": {},
     "output_type": "display_data"
    },
    {
     "data": {
      "text/markdown": [
       "**Державний устрій**: *Парламентська республіка*"
      ],
      "text/plain": [
       "<IPython.core.display.Markdown object>"
      ]
     },
     "metadata": {},
     "output_type": "display_data"
    },
    {
     "data": {
      "text/markdown": [
       "**Столиця**: Прага"
      ],
      "text/plain": [
       "<IPython.core.display.Markdown object>"
      ]
     },
     "metadata": {},
     "output_type": "display_data"
    },
    {
     "data": {
      "text/markdown": [
       "## Видатні персоналії"
      ],
      "text/plain": [
       "<IPython.core.display.Markdown object>"
      ]
     },
     "metadata": {},
     "output_type": "display_data"
    },
    {
     "data": {
      "text/markdown": [
       "1. **Вацлав Гавел** – перший президент Чеської Республіки після розпаду Чехословаччини."
      ],
      "text/plain": [
       "<IPython.core.display.Markdown object>"
      ]
     },
     "metadata": {},
     "output_type": "display_data"
    },
    {
     "data": {
      "text/markdown": [
       "2. **Богуміл Грабал** – видатний чеський письменник."
      ],
      "text/plain": [
       "<IPython.core.display.Markdown object>"
      ]
     },
     "metadata": {},
     "output_type": "display_data"
    },
    {
     "data": {
      "text/markdown": [
       "3. **Мартін Кудаш** – знаменитий чеський спортсмен, олімпійський чемпіон."
      ],
      "text/plain": [
       "<IPython.core.display.Markdown object>"
      ]
     },
     "metadata": {},
     "output_type": "display_data"
    },
    {
     "data": {
      "text/markdown": [
       "## Пам’ятки культури та природи"
      ],
      "text/plain": [
       "<IPython.core.display.Markdown object>"
      ]
     },
     "metadata": {},
     "output_type": "display_data"
    },
    {
     "data": {
      "text/html": [
       "<span style=\"color:blue\">Прага</span> – столиця, відома своїм історичним центром та архітектурою."
      ],
      "text/plain": [
       "<IPython.core.display.HTML object>"
      ]
     },
     "metadata": {},
     "output_type": "display_data"
    },
    {
     "data": {
      "text/markdown": [
       "**Чеський Крумлов** – мальовниче містечко з середньовічним замком."
      ],
      "text/plain": [
       "<IPython.core.display.Markdown object>"
      ]
     },
     "metadata": {},
     "output_type": "display_data"
    },
    {
     "data": {
      "text/markdown": [
       "**Національний парк Шумава** – прекрасна природна територія."
      ],
      "text/plain": [
       "<IPython.core.display.Markdown object>"
      ]
     },
     "metadata": {},
     "output_type": "display_data"
    },
    {
     "data": {
      "text/html": [
       "<div style=\"border:2px solid black;padding:10px\">Цікавий факт: Чеська Республіка є однією з найбільш відвідуваних туристами країн Європи.</div>"
      ],
      "text/plain": [
       "<IPython.core.display.HTML object>"
      ]
     },
     "metadata": {},
     "output_type": "display_data"
    },
    {
     "data": {
      "text/markdown": [
       "## Таблиця з інформацією"
      ],
      "text/plain": [
       "<IPython.core.display.Markdown object>"
      ]
     },
     "metadata": {},
     "output_type": "display_data"
    },
    {
     "data": {
      "text/html": [
       "\n",
       "<table>\n",
       "<tr><th>Категорія</th><th>Інформація</th></tr>\n",
       "<tr><td>Столиця</td><td>Прага</td></tr>\n",
       "<tr><td>Офіційна мова</td><td>Чеська</td></tr>\n",
       "<tr><td>Валюта</td><td>Чеська крона (CZK)</td></tr>\n",
       "</table>\n"
      ],
      "text/plain": [
       "<IPython.core.display.HTML object>"
      ]
     },
     "metadata": {},
     "output_type": "display_data"
    },
    {
     "data": {
      "text/markdown": [
       "## Список"
      ],
      "text/plain": [
       "<IPython.core.display.Markdown object>"
      ]
     },
     "metadata": {},
     "output_type": "display_data"
    },
    {
     "data": {
      "text/markdown": [
       "- Основні міста:\n",
       "  - Прага\n",
       "  - Брно\n",
       "  - Острава"
      ],
      "text/plain": [
       "<IPython.core.display.Markdown object>"
      ]
     },
     "metadata": {},
     "output_type": "display_data"
    },
    {
     "data": {
      "text/markdown": [
       "## Картинки"
      ],
      "text/plain": [
       "<IPython.core.display.Markdown object>"
      ]
     },
     "metadata": {},
     "output_type": "display_data"
    },
    {
     "data": {
      "text/markdown": [
       "### Прага"
      ],
      "text/plain": [
       "<IPython.core.display.Markdown object>"
      ]
     },
     "metadata": {},
     "output_type": "display_data"
    },
    {
     "data": {
      "text/html": [
       "<img src=\"https://upload.wikimedia.org/wikipedia/commons/f/fb/Prague_Collage_2017.png\" width=\"400\"/>"
      ],
      "text/plain": [
       "<IPython.core.display.HTML object>"
      ]
     },
     "metadata": {},
     "output_type": "display_data"
    },
    {
     "data": {
      "text/markdown": [
       "### Чеський Крумлов"
      ],
      "text/plain": [
       "<IPython.core.display.Markdown object>"
      ]
     },
     "metadata": {},
     "output_type": "display_data"
    },
    {
     "data": {
      "text/html": [
       "<img src=\"https://upload.wikimedia.org/wikipedia/commons/thumb/a/a3/Český_Krumlov_Moldau_Loop.jpg/270px-Český_Krumlov_Moldau_Loop.jpg\" width=\"400\"/>"
      ],
      "text/plain": [
       "<IPython.core.display.HTML object>"
      ]
     },
     "metadata": {},
     "output_type": "display_data"
    },
    {
     "data": {
      "text/markdown": [
       "## Гіперпосилання"
      ],
      "text/plain": [
       "<IPython.core.display.Markdown object>"
      ]
     },
     "metadata": {},
     "output_type": "display_data"
    },
    {
     "data": {
      "text/html": [
       "<a href=\"https://en.wikipedia.org/wiki/Czech_Republic\" target=\"_blank\">Детальніше про Чеську Республіку</a>"
      ],
      "text/plain": [
       "<IPython.core.display.HTML object>"
      ]
     },
     "metadata": {},
     "output_type": "display_data"
    },
    {
     "data": {
      "text/markdown": [
       "## Прапор Чеської Республіки"
      ],
      "text/plain": [
       "<IPython.core.display.Markdown object>"
      ]
     },
     "metadata": {},
     "output_type": "display_data"
    },
    {
     "data": {
      "text/html": [
       "\n",
       "<svg width=\"300\" height=\"200\">\n",
       "  <rect width=\"300\" height=\"200\" fill=\"red\"/>\n",
       "  <rect width=\"300\" height=\"100\" fill=\"white\"/>\n",
       "  <polygon points=\"0,0 150,100 0,200\" fill=\"blue\"/>\n",
       "</svg>\n"
      ],
      "text/plain": [
       "<IPython.core.display.HTML object>"
      ]
     },
     "metadata": {},
     "output_type": "display_data"
    }
   ],
   "source": [
    "from IPython.display import display, Markdown, HTML\n",
    "\n",
    "# Виводимо заголовок\n",
    "display(Markdown('# Чеська Республіка'))\n",
    "\n",
    "# Загальні відомості\n",
    "display(Markdown('## Загальні відомості'))\n",
    "display(Markdown('**Площа**: *78,866 км²*'))  \n",
    "display(Markdown('**Населення**: *10,693,939 людей*'))  \n",
    "display(Markdown('**Державний устрій**: *Парламентська республіка*'))  \n",
    "display(Markdown('**Столиця**: Прага'))\n",
    "\n",
    "# Видатні персоналії\n",
    "display(Markdown('## Видатні персоналії'))\n",
    "display(Markdown('1. **Вацлав Гавел** – перший президент Чеської Республіки після розпаду Чехословаччини.'))\n",
    "display(Markdown('2. **Богуміл Грабал** – видатний чеський письменник.'))\n",
    "display(Markdown('3. **Мартін Кудаш** – знаменитий чеський спортсмен, олімпійський чемпіон.'))\n",
    "\n",
    "# Пам’ятки культури та природи\n",
    "display(Markdown('## Пам’ятки культури та природи'))\n",
    "display(HTML('<span style=\"color:blue\">Прага</span> – столиця, відома своїм історичним центром та архітектурою.'))\n",
    "display(Markdown('**Чеський Крумлов** – мальовниче містечко з середньовічним замком.'))\n",
    "display(Markdown('**Національний парк Шумава** – прекрасна природна територія.'))\n",
    "\n",
    "# Текст у рамці\n",
    "display(HTML('<div style=\"border:2px solid black;padding:10px\">Цікавий факт: Чеська Республіка є однією з найбільш відвідуваних туристами країн Європи.</div>'))\n",
    "\n",
    "# Таблиця з інформацією\n",
    "display(Markdown('## Таблиця з інформацією'))\n",
    "display(HTML('''\n",
    "<table>\n",
    "<tr><th>Категорія</th><th>Інформація</th></tr>\n",
    "<tr><td>Столиця</td><td>Прага</td></tr>\n",
    "<tr><td>Офіційна мова</td><td>Чеська</td></tr>\n",
    "<tr><td>Валюта</td><td>Чеська крона (CZK)</td></tr>\n",
    "</table>\n",
    "'''))\n",
    "\n",
    "# Список\n",
    "display(Markdown('## Список'))\n",
    "display(Markdown('- Основні міста:\\n  - Прага\\n  - Брно\\n  - Острава'))\n",
    "\n",
    "# Картинки\n",
    "display(Markdown('## Картинки'))\n",
    "display(Markdown('### Прага'))\n",
    "display(HTML('<img src=\"https://upload.wikimedia.org/wikipedia/commons/f/fb/Prague_Collage_2017.png\" width=\"400\"/>'))\n",
    "display(Markdown('### Чеський Крумлов'))\n",
    "display(HTML('<img src=\"https://upload.wikimedia.org/wikipedia/commons/thumb/a/a3/Český_Krumlov_Moldau_Loop.jpg/270px-Český_Krumlov_Moldau_Loop.jpg\" width=\"400\"/>'))\n",
    "\n",
    "# Гіперпосилання\n",
    "display(Markdown('## Гіперпосилання'))\n",
    "display(HTML('<a href=\"https://en.wikipedia.org/wiki/Czech_Republic\" target=\"_blank\">Детальніше про Чеську Республіку</a>'))\n",
    "\n",
    "# Прапор Чеської Республіки за допомогою SVG\n",
    "display(Markdown('## Прапор Чеської Республіки'))\n",
    "display(HTML('''\n",
    "<svg width=\"300\" height=\"200\">\n",
    "  <rect width=\"300\" height=\"200\" fill=\"red\"/>\n",
    "  <rect width=\"300\" height=\"100\" fill=\"white\"/>\n",
    "  <polygon points=\"0,0 150,100 0,200\" fill=\"blue\"/>\n",
    "</svg>\n",
    "'''))\n"
   ]
  },
  {
   "cell_type": "code",
   "execution_count": 14,
   "id": "16614e68-8cc8-4f7d-85cf-3e0573d7aae1",
   "metadata": {},
   "outputs": [],
   "source": [
    "def is_prime(n):\n",
    "    if n < 2:\n",
    "        return False\n",
    "    for i in range(2, int(n ** 0.5) + 1):\n",
    "        if n % i == 0:\n",
    "            return False\n",
    "    return True\n",
    "\n",
    "def task2():\n",
    "    try:\n",
    "        numbers = input(\"Enter a list of numbers separated by spaces: \").split()\n",
    "        \n",
    "        numbers = [int(x) for x in numbers]\n",
    "\n",
    "        non_prime_numbers = [n for n in numbers if not is_prime(n)]\n",
    "        non_prime_numbers.sort(reverse=True)\n",
    "        \n",
    "        return non_prime_numbers\n",
    "    except ValueError:\n",
    "        return \"Помилка. У списку присутнє нечислове значення\"\n"
   ]
  },
  {
   "cell_type": "code",
   "execution_count": 16,
   "id": "e14955d6-4c16-4f17-98db-80b6de37f08e",
   "metadata": {},
   "outputs": [
    {
     "name": "stdin",
     "output_type": "stream",
     "text": [
      "Enter a list of numbers separated by spaces:  h 44 6 4\n"
     ]
    },
    {
     "data": {
      "text/plain": [
       "'Помилка. У списку присутнє нечислове значення'"
      ]
     },
     "execution_count": 16,
     "metadata": {},
     "output_type": "execute_result"
    }
   ],
   "source": [
    "task_9()"
   ]
  },
  {
   "cell_type": "code",
   "execution_count": null,
   "id": "fb9b9659-efde-40f7-8f70-029aff871c36",
   "metadata": {},
   "outputs": [],
   "source": []
  }
 ],
 "metadata": {
  "kernelspec": {
   "display_name": "Python 3 (ipykernel)",
   "language": "python",
   "name": "python3"
  },
  "language_info": {
   "codemirror_mode": {
    "name": "ipython",
    "version": 3
   },
   "file_extension": ".py",
   "mimetype": "text/x-python",
   "name": "python",
   "nbconvert_exporter": "python",
   "pygments_lexer": "ipython3",
   "version": "3.13.0"
  }
 },
 "nbformat": 4,
 "nbformat_minor": 5
}
